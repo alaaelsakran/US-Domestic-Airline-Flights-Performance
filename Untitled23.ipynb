{
  "metadata": {
    "language_info": {
      "codemirror_mode": {
        "name": "python",
        "version": 3
      },
      "file_extension": ".py",
      "mimetype": "text/x-python",
      "name": "python",
      "nbconvert_exporter": "python",
      "pygments_lexer": "ipython3",
      "version": "3.8"
    },
    "kernelspec": {
      "name": "python",
      "display_name": "Python (Pyodide)",
      "language": "python"
    }
  },
  "nbformat_minor": 4,
  "nbformat": 4,
  "cells": [
    {
      "cell_type": "code",
      "source": "%pip install beautifulsoup4\n%pip install requests",
      "metadata": {
        "trusted": true
      },
      "execution_count": 1,
      "outputs": []
    },
    {
      "cell_type": "code",
      "source": "import pandas as pd\nimport numpy as np\nimport requests\nimport datetime",
      "metadata": {
        "trusted": true
      },
      "execution_count": 2,
      "outputs": []
    },
    {
      "cell_type": "code",
      "source": "pd.set_option(\"display.max_columns\", None)\npd.set_option(\"display.max_colwidth\", None)",
      "metadata": {
        "trusted": true
      },
      "execution_count": 3,
      "outputs": []
    },
    {
      "cell_type": "code",
      "source": "def getBoosterVersion(data):\n    for x in data[\"rocket\"]:\n        if x:\n            response = requests.get(\"https://api.spacexdata.com/v4/rockets/\"+str(x)).json()\n            BoosterVersion.append(response[\"name\"])\ndef getLaunchSite(data):\n    for x in data[\"launchpad\"]:\n        if x:\n            response = requests.get(\"https://api.spacexdata.com/v4/launchpads/\"+str(x)).json()\n            Longitude.append(response[\"longitude\"])\n            Latitude.append(response[\"latitude\"])            \n            LaunchSite.append(response[\"name\"])            \ndef getPayloadData(data):\n    for load in data[\"payloads\"]:\n        response = requests.get(\"https://api.spacexdata.com/v4/payloads/\"+load).json()\n        PayloadMass.append(response[\"mass_kg\"])\n        Orbit.append(response[\"orbit\"])\ndef getCoreData(data):\n    for core in data[\"cores\"]:\n        if core[\"core\"] != None:\n            response = requests.get(\"https://api.spacexdata.com/v4/cores/\"+core[\"core\"]).json()\n            Block.append(response[\"block\"])\n            ReusedCount.append(response[\"reuse_count\"])\n            Serial.append(response[\"serial\"])\n        else:\n            Block.append(None)\n            ReusedCount.append(None)\n            Serial.append(None)\n        Outcome.append(str(core[\"landing_success\"]) + \" \" + str(core[\"landing_type\"]))\n        Flights.append(core[\"flight\"])\n        GridFins.append(core[\"gridfins\"])\n        Reused.append(core[\"reused\"])\n        Legs.append(core[\"legs\"])\n        LandingPad.append(core[\"landpad\"])",
      "metadata": {},
      "execution_count": null,
      "outputs": []
    },
    {
      "cell_type": "code",
      "source": "spacex_url = \"https://api.spacexdata.com/v4/launches/past\"\nresponse = requests.get(spacex_url)\nprint(response.content)",
      "metadata": {},
      "execution_count": null,
      "outputs": []
    },
    {
      "cell_type": "code",
      "source": "static_json_url = \"https://cf-courses-data.s3.us.cloud-object-storage.appdomain.cloud/IBM-DS0321EN-SkillsNetwork/datasets/API_call_spacex_api.json\"\nresponse = requests.get(static_json_url)\nresponse.status_code",
      "metadata": {},
      "execution_count": null,
      "outputs": []
    },
    {
      "cell_type": "code",
      "source": "df = pd.json_normalize(response.json())\ndf.head()",
      "metadata": {},
      "execution_count": null,
      "outputs": []
    },
    {
      "cell_type": "code",
      "source": "df = data[[\"rocket\",\"payloads\",\"launchpad\",\"cores\",\"flight_number\",\"date_utc\"]]\ndf.head()",
      "metadata": {},
      "execution_count": null,
      "outputs": []
    }
  ]
}